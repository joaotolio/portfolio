{
  "nbformat": 4,
  "nbformat_minor": 0,
  "metadata": {
    "colab": {
      "provenance": []
    },
    "kernelspec": {
      "name": "python3",
      "display_name": "Python 3"
    },
    "language_info": {
      "name": "python"
    }
  },
  "cells": [
    {
      "cell_type": "markdown",
      "source": [
        "# Matching - O Problema do Casamento"
      ],
      "metadata": {
        "id": "VXMbqE8SZSdV"
      }
    },
    {
      "cell_type": "code",
      "source": [
        "import numpy as np"
      ],
      "metadata": {
        "id": "o04eVaeZbBV4"
      },
      "execution_count": null,
      "outputs": []
    },
    {
      "cell_type": "code",
      "execution_count": null,
      "metadata": {
        "id": "YpUbMHaUZLFf"
      },
      "outputs": [],
      "source": [
        "# Primeiro, vamos definir o número de Homens e Mulheres\n",
        "# Para simplificar teremos que NumHomens = NumMulheres = N\n",
        "N = 4\n",
        "\n",
        "Preferencias = [[7, 6, 4, 5],\n",
        "               [5, 7, 4, 6],\n",
        "               [7, 4, 5, 6],\n",
        "               [6, 5, 4, 7],\n",
        "               [0, 1, 2, 3],      # Listei as preferencias\n",
        "               [0, 3, 2, 1],      # As quatro primeiras listas são as preferencias dos homens\n",
        "               [1, 0, 2, 3],      # As quatro ultimas são as das mulheres\n",
        "               [3, 1, 2, 0]]      # homens são representadas por numeros de 0 a 3 e mulheres por numeros de 4 a 7   \n"
      ]
    },
    {
      "cell_type": "code",
      "source": [
        "def Wprefere(preferencias, w, m, m1):\n",
        "  # Aqui, vamos conferir quem vem primeiro na lista de preferencias da mulher\n",
        "  for i in range(N):\n",
        "    if preferencias[w][i] == m1:\n",
        "      return True\n",
        "    if preferencias[w][i] == m:\n",
        "      return False\n",
        "\n",
        "\n",
        "def stableMarriage(preferencias):\n",
        "  # Primeiro, vamos armazenar numa lista os parceiros das mulheres\n",
        "  Wparceiro = [-1 for i in range(N)] #  Começamos criando essa lista e atribuindo -1 para cada uma das mulheres (diremos que -1 é o caso em que uma mulher está solteira)\n",
        "  \n",
        "  # Agora, vamos criar uma lista dizendo que cada homem está livre\n",
        "  Mlivre = [False for i in range(N)] # vamos alterá-la quando este homem não ficar mais livre\n",
        "  \n",
        "  # Agora, para executarmos o algoritmo Gale-Shapley criamos uma var iterativa para o while\n",
        "  HomensLivres = N\n",
        "  \n",
        "  while (HomensLivres > 0):\n",
        "     # Começamos escolhendo o primeiro homem\n",
        "     m = 0\n",
        "\n",
        "     # Vemos se ele está solteiro, se estiver break no while e continua, se não estiver passa para o proximo \n",
        "     while (m < N):\n",
        "       if (Mlivre[m] == False):\n",
        "         break\n",
        "       m += 1\n",
        "\n",
        "     # Vamos agora pegar a preferencia do homem m\n",
        "     i = 0\n",
        "     while i < N and Mlivre[m] == False:\n",
        "       w = preferencias[m][i] # Aloca a preferencia na variavel w\n",
        "       \n",
        "       if (Wparceiro[w - N] == -1): # Se ela estiver solteira\n",
        "         Wparceiro[w - N] = m  # Aloca o homem para a mulher w\n",
        "         Mlivre[m] = True      # E, fala que o homem nao está mais solteiro\n",
        "         HomensLivres -= 1     # Diminui o numero de homens solteiros\n",
        "\n",
        "       else:    # Se ela NAO estiver solteira\n",
        "         m1 = Wparceiro[w - N]  # Pega o parceiro dela\n",
        "  \n",
        "         if (Wprefere(preferencias, w, m, m1) == False): # E, compara os dois homens m e m1 para ver qual ela prefere\n",
        "           Wparceiro[w - N] = m # Como deu falso (ela prefere o homem m), substituimos \n",
        "           Mlivre[m] = True  # Diz que o hommem m não está mais solteiro\n",
        "           Mlivre[m1] = False # Diz que o homem m1 está solteiro agr\n",
        "       i += 1\n",
        "  \n",
        "  # Imprime quem fica com quem\n",
        "  print('Mulher', 'Homem')\n",
        "  for i in range(N):\n",
        "      print(i + 1, \"\\t\", Wparceiro[i] + 1)\n",
        "    \n",
        "stableMarriage(Preferencias)"
      ],
      "metadata": {
        "colab": {
          "base_uri": "https://localhost:8080/"
        },
        "id": "O4LBe7Y0pCPW",
        "outputId": "9415be95-275e-47c5-c556-c01c126661eb"
      },
      "execution_count": null,
      "outputs": [
        {
          "output_type": "stream",
          "name": "stdout",
          "text": [
            "Mulher Homem\n",
            "1 \t 3\n",
            "2 \t 4\n",
            "3 \t 1\n",
            "4 \t 2\n"
          ]
        }
      ]
    }
  ]
}