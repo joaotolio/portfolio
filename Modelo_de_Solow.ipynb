{
  "nbformat": 4,
  "nbformat_minor": 0,
  "metadata": {
    "colab": {
      "provenance": []
    },
    "kernelspec": {
      "name": "python3",
      "display_name": "Python 3"
    },
    "language_info": {
      "name": "python"
    }
  },
  "cells": [
    {
      "cell_type": "markdown",
      "source": [
        "# Modelo de Crescimento de Solow"
      ],
      "metadata": {
        "id": "1tI1fGqsKQR3"
      }
    },
    {
      "cell_type": "code",
      "execution_count": null,
      "metadata": {
        "id": "Hhl5gm40JLeB"
      },
      "outputs": [],
      "source": [
        "# Primeiro, vamos pedir alguns dados para o usuário\n",
        "# Nesse caso, usarei os mesmos dados do exemplo contido no livro\n",
        "\n",
        "delta = 0.1\n",
        "s = 0.3\n",
        "k = 4\n",
        "alpha = 1/2\n",
        "\n",
        "assert delta >= 0 and delta <= 1\n",
        "assert s >= 0 and s <= 1\n",
        "assert k >= 0\n",
        "assert alpha >= 0 and alpha <= 1"
      ]
    },
    {
      "cell_type": "markdown",
      "source": [
        "Queremos achar o estado estacionário, que ocorre quando \n",
        "$$ \\Delta k = 0$$\n",
        "\n",
        "Para isso, lembre-se que:\n",
        "\n",
        "$$ \\Delta k = sf(k) - \\delta k $$"
      ],
      "metadata": {
        "id": "3O4HIF80KWLc"
      }
    },
    {
      "cell_type": "code",
      "source": [
        "# Temos que definir uma função f(k), utilizarei a mesma do livro texto\n",
        "f = lambda k: k ** (alpha)\n",
        "\n",
        "# Vamos criar a função delta k \n",
        "delta_k = lambda k: s * f(k) - delta * k"
      ],
      "metadata": {
        "id": "gpMyjb5wKHVw"
      },
      "execution_count": null,
      "outputs": []
    },
    {
      "cell_type": "code",
      "source": [
        "## Para calcular utilizaremos um loop que se encerrará quando epsilon <= 0.0001\n",
        "epsilon = 0.0001\n",
        "\n",
        "while delta_k(k) >= epsilon:\n",
        "  k += 1"
      ],
      "metadata": {
        "id": "cxsFrUU-LqA_"
      },
      "execution_count": null,
      "outputs": []
    },
    {
      "cell_type": "code",
      "source": [
        "# Printando resultados\n",
        "print('Delta K:', delta_k(k))\n",
        "\n",
        "print('Produto por trabalhador:', f(k))\n",
        "\n",
        "print('Estoque de Capital no Estado Estacionário:', k)"
      ],
      "metadata": {
        "colab": {
          "base_uri": "https://localhost:8080/"
        },
        "id": "Y5D4gYyaNkiZ",
        "outputId": "a42d187e-168a-4d1b-d95f-3e9c4a69642d"
      },
      "execution_count": null,
      "outputs": [
        {
          "output_type": "stream",
          "name": "stdout",
          "text": [
            "Delta K: -1.1102230246251565e-16\n",
            "Produto por trabalhador: 3.0\n",
            "Estoque de Capital no Estado Estacionário: 9\n"
          ]
        }
      ]
    },
    {
      "cell_type": "code",
      "source": [
        "k0 = 1\n",
        "trajetoria_k = [k0]\n",
        "\n",
        "distancia = 10\n",
        "i = 0\n",
        "\n",
        "while abs(distancia) >= epsilon:\n",
        "  k_tmaisum = s * (trajetoria_k[i] ** alpha) + (1 - delta) * trajetoria_k[i]\n",
        "  i += 1\n",
        "\n",
        "  trajetoria_k.append(k_tmaisum)\n",
        "\n",
        "  distancia = trajetoria_k[i] - trajetoria_k[i - 1]\n"
      ],
      "metadata": {
        "id": "HenlrxovfwH9"
      },
      "execution_count": null,
      "outputs": []
    },
    {
      "cell_type": "code",
      "source": [
        "import matplotlib.pyplot as plt\n",
        "import numpy as np\n",
        "\n",
        "lista = list(range(0, len(trajetoria_k)))\n",
        "\n",
        "plt.plot(lista, trajetoria_k)"
      ],
      "metadata": {
        "colab": {
          "base_uri": "https://localhost:8080/",
          "height": 282
        },
        "id": "Mym1FnaWhXGW",
        "outputId": "f29041cc-5ca7-4f47-de03-f253e248adb9"
      },
      "execution_count": null,
      "outputs": [
        {
          "output_type": "execute_result",
          "data": {
            "text/plain": [
              "[<matplotlib.lines.Line2D at 0x7fb719941f50>]"
            ]
          },
          "metadata": {},
          "execution_count": 15
        },
        {
          "output_type": "display_data",
          "data": {
            "text/plain": [
              "<Figure size 432x288 with 1 Axes>"
            ],
            "image/png": "[encoded data removed]"
          },
          "metadata": {
            "needs_background": "light"
          }
        }
      ]
    },
    {
      "cell_type": "code",
      "source": [],
      "metadata": {
        "colab": {
          "base_uri": "https://localhost:8080/",
          "height": 165
        },
        "id": "iwSAbcXBh6Yl",
        "outputId": "583b2b00-4fb2-4716-dd52-37f0237b0893"
      },
      "execution_count": null,
      "outputs": [
        {
          "output_type": "error",
          "ename": "TypeError",
          "evalue": "ignored",
          "traceback": [
            "\u001b[0;31m---------------------------------------------------------------------------\u001b[0m",
            "\u001b[0;31mTypeError\u001b[0m                                 Traceback (most recent call last)",
            "\u001b[0;32m<ipython-input-9-bce23c0aa245>\u001b[0m in \u001b[0;36m<module>\u001b[0;34m\u001b[0m\n\u001b[0;32m----> 1\u001b[0;31m \u001b[0mrange\u001b[0m\u001b[0;34m(\u001b[0m\u001b[0mtrajetoria_k\u001b[0m\u001b[0;34m)\u001b[0m\u001b[0;34m\u001b[0m\u001b[0;34m\u001b[0m\u001b[0m\n\u001b[0m",
            "\u001b[0;31mTypeError\u001b[0m: 'list' object cannot be interpreted as an integer"
          ]
        }
      ]
    }
  ]
}