{
  "nbformat": 4,
  "nbformat_minor": 0,
  "metadata": {
    "colab": {
      "provenance": []
    },
    "kernelspec": {
      "name": "python3",
      "display_name": "Python 3"
    },
    "language_info": {
      "name": "python"
    }
  },
  "cells": [
    {
      "cell_type": "markdown",
      "source": [
        "# 3 - Modelo IS-LM"
      ],
      "metadata": {
        "id": "KF8csTwe2inB"
      }
    },
    {
      "cell_type": "code",
      "execution_count": null,
      "metadata": {
        "id": "datb-AFh2Mrv"
      },
      "outputs": [],
      "source": [
        "# Chamando as bibliotecas\n",
        "import numpy as np"
      ]
    },
    {
      "cell_type": "code",
      "source": [
        "# Primeiro vamos definir alguns parâmetros necessários\n",
        "# Questao 3 do livro texto\n",
        "G = 100 ## Gastos do governo\n",
        "T = 100 ## Imposto\n",
        "a = 200 ## Consumo Inicial (ou autonomo)\n",
        "b = 0.75 ## Propensão Marginal a Consumir\n",
        "c = 200 # Investimento Inicial (ou autonomo) \n",
        "d = 25 ## Sensibilidade do investimento a taxa de juros\n",
        "\n",
        "M = 1000 # Oferta de Moeda\n",
        "P = 2 # Nivel de Precos\n",
        "e = 1 # Sensibilidade da demanda por moeda a Renda\n",
        "f = 100 # Sensibilidade da demanda por moeda a Taxa de Juros\n",
        "\n",
        "assert G >= 0\n",
        "assert T >= 0\n",
        "assert a >= 0\n",
        "assert b > 0 and b < 1\n",
        "assert c > 0\n",
        "assert d > 0\n",
        "assert e > 0\n",
        "assert f > 0"
      ],
      "metadata": {
        "id": "KbCVLjRp2pVL"
      },
      "execution_count": null,
      "outputs": []
    },
    {
      "cell_type": "markdown",
      "source": [
        "Temos a Função de Consumo:\n",
        "$$ C = a + b (Y - T) $$\n",
        "\n",
        "O investimento é dado por:\n",
        "\n",
        "$$ I(r) = c - dr $$\n",
        "\n",
        "E, por fim temos a curva IS que é dada por:\n",
        "\n",
        "$$ Y = C(Y - T) + I(r) + G $$\n",
        "\n",
        "Resolvendo para $Y$:\n",
        "\n",
        "$$ Y = a + b (Y - T) + c - dr + G $$\n",
        "\n",
        "$$ Y - bY = a - bT + c - dr + G $$\n",
        "\n",
        "$$ Y (1 - b) = a - bT + c - dr + G $$\n",
        "\n",
        "$$ Y = \\frac{a - bT + c - dr + G}{1-b} $$"
      ],
      "metadata": {
        "id": "EdSvrzzG-tMm"
      }
    },
    {
      "cell_type": "code",
      "source": [
        "# Criando a Funcao da curva IS\n",
        "IS =  lambda r: ((a - b * T) + (c - d * r) + G ) / (1 - b)"
      ],
      "metadata": {
        "id": "gRkrcvLz4bkp"
      },
      "execution_count": null,
      "outputs": []
    },
    {
      "cell_type": "markdown",
      "source": [
        "A função LM é dada por:\n",
        "$$ \\frac{M}{P} = e Y - fr $$\n",
        "\n",
        "resolvendo para $Y$:\n",
        "\n",
        "$$ eY = \\frac{M}{P} + fr $$\n",
        "\n",
        "$$ Y = \\frac{\\frac{M}{P} + fr}{e} $$\n"
      ],
      "metadata": {
        "id": "1CRsEw5BBXbU"
      }
    },
    {
      "cell_type": "code",
      "source": [
        "# Criando as Funcoes para a curva LM\n",
        "LM = lambda r: ((M/P) + f * r) / e"
      ],
      "metadata": {
        "id": "dglfe_uN5PKc"
      },
      "execution_count": null,
      "outputs": []
    },
    {
      "cell_type": "code",
      "source": [
        "# O equilibrio ocorre quando ambas funcoes sao iguais, logo podemos usar a tecnica do grid\n",
        "\n",
        "excesso = lambda r: IS(r) - LM(r)\n",
        "\n",
        "grid = np.linspace(0, 100, 100000)\n",
        "\n",
        "valores = [abs(excesso(i)) for i in grid]\n",
        "\n",
        "index_menor_valor = np.argmin(valores)"
      ],
      "metadata": {
        "id": "LKopk8EsCE1z"
      },
      "execution_count": null,
      "outputs": []
    },
    {
      "cell_type": "code",
      "source": [
        "print('Índice de Menor Valor: ', index_menor_valor )\n",
        "print('Menor Valor: ', valores[index_menor_valor])\n",
        "\n",
        "r_eq = grid[index_menor_valor]\n",
        "y_eq = LM(r_eq)\n",
        "\n",
        "print('Taxa de Juros de Equilíbrio: ', r_eq)\n",
        "print('Produto de Equilíbrio: ', y_eq)"
      ],
      "metadata": {
        "colab": {
          "base_uri": "https://localhost:8080/"
        },
        "id": "xLGkDgqNDE_N",
        "outputId": "ab2986c1-1fd3-4315-d19e-eaf826e93fad"
      },
      "execution_count": null,
      "outputs": [
        {
          "output_type": "stream",
          "name": "stdout",
          "text": [
            "Índice de Menor Valor:  6000\n",
            "Menor Valor:  0.012000120001175674\n",
            "Taxa de Juros de Equilíbrio:  6.000060000600006\n",
            "Produto de Equilíbrio:  1100.0060000600006\n"
          ]
        }
      ]
    }
  ]
}