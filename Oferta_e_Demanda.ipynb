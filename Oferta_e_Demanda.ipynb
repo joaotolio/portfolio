{
  "nbformat": 4,
  "nbformat_minor": 0,
  "metadata": {
    "colab": {
      "provenance": []
    },
    "kernelspec": {
      "name": "python3",
      "display_name": "Python 3"
    },
    "language_info": {
      "name": "python"
    }
  },
  "cells": [
    {
      "cell_type": "markdown",
      "source": [
        "# Modelo 1: Oferta e Demanda"
      ],
      "metadata": {
        "id": "d4qOexLSvcIM"
      }
    },
    {
      "cell_type": "code",
      "source": [
        "import numpy as np\n",
        "import matplotlib.pyplot as plt"
      ],
      "metadata": {
        "id": "8tE-IQzBvfdj"
      },
      "execution_count": null,
      "outputs": []
    },
    {
      "cell_type": "code",
      "execution_count": null,
      "metadata": {
        "id": "SL9WsyJAnTyM",
        "colab": {
          "base_uri": "https://localhost:8080/"
        },
        "outputId": "0284f66e-3e33-47c1-ae88-5ccc1a0b9e9a"
      },
      "outputs": [
        {
          "name": "stdout",
          "output_type": "stream",
          "text": [
            "Digite o valor de a:2\n",
            "Digite o valor de b:15\n",
            "Digite o valor de c:3\n",
            "Digite o valor de d:2\n"
          ]
        }
      ],
      "source": [
        "# Pedindo ao usuário os valores de a, b, c e d.\n",
        "a = float(input('Digite o valor de a:'))\n",
        "b = float(input('Digite o valor de b:'))\n",
        "c = float(input('Digite o valor de c:'))\n",
        "d = float(input('Digite o valor de d:'))\n",
        "\n",
        "assert a >= 0 # Se a = 0, função de Demanda é constante\n",
        "assert b > 0  # b não pode ser zero, pois a função demanda é decrescente, assim se p > 0, demanda < 0, o que nao faz sentido\n",
        "assert c >= 0 # se c = 0, função oferta é constante\n",
        "assert d >= 0\n",
        "assert b >= d # Se o intercepto da oferta for maior que o da demanda, as funções nunca se cruzam, o que implica que não haverá equilíbrio"
      ]
    },
    {
      "cell_type": "code",
      "source": [
        "# Criando a função de Demanda\n",
        "demanda = lambda p: b - a * p\n",
        "\n",
        "# Criando a função de Oferta\n",
        "oferta = lambda p: d + c * p\n",
        "\n",
        "# Criando a função de Excesso de Demanda\n",
        "excesso_de_demanda = lambda p: demanda(p) - oferta(p)"
      ],
      "metadata": {
        "id": "58el2xySrBnW"
      },
      "execution_count": null,
      "outputs": []
    },
    {
      "cell_type": "code",
      "source": [
        "if a != 0:\n",
        "  # Utilizaremos aqui a técnica do grid, para isso criamos um array com valores igualmente espaçados\n",
        "  # começando no zero e terminando em duas vezes o valor de (b/a), que é o valor em que a função demanda atinge zero\n",
        "  grid = np.linspace(0, (b/a), 1000)\n",
        "\n",
        "  # Calculando os valores absolutos do excesso de demanda para cada valor do grid.\n",
        "  # Para isso, criei uma lista chamada 'values' e nela inclui um 'for' que roda cada elemento da lista 'grid' e calcula o valor da função excesso de demanda, já em termos absolutos, pois queremos o que mais se aproxima de zero\n",
        "  values = [abs(excesso_de_demanda(i)) for i in grid]\n",
        "\n",
        "  # Após isso tudo, vamos armazenar na variável 'min_value_index' o índice que contém o menor valor da função 'values'\n",
        "  min_value_index = np.argmin(values)\n",
        "\n",
        "elif a == 0:\n",
        "  # começando no zero e terminando em duas vezes o valor de (2 * (b - d)/c), que é o valor em que a função oferta se iguala a demanda\n",
        "  grid = np.linspace(0, (2 * ((b - d)/c)) , 1000)\n",
        "\n",
        "  values = [abs(excesso_de_demanda(i)) for i in grid]\n",
        "\n",
        "  min_value_index = np.argmin(values)"
      ],
      "metadata": {
        "id": "mgTeTwXFu_uB"
      },
      "execution_count": null,
      "outputs": []
    },
    {
      "cell_type": "code",
      "source": [
        "# Printado os valores\n",
        "print('Índice de Menor Valor: ', min_value_index )\n",
        "print('Menor Valor: ', values[min_value_index])\n",
        "\n",
        "# E podemos, por fim, printar a quantidade e o preço, para isso temos que:\n",
        "# preço: pegar o indice de menor valor e localizar ele no grid, assim, teremos a quantidade de equilíbrio\n",
        "# quantidade: substituir a quantidade de equilíbrio no valor da Oferta (ou da Demanda, pois é indiferente, visto que estão em equilíbrio)\n",
        "preco = grid[min_value_index]\n",
        "quantidade = demanda(preco)\n",
        "print('Preço de Equilíbrio: ', round(preco, 2))\n",
        "print('Quantidade de Equilíbrio: ', round(quantidade, 2))"
      ],
      "metadata": {
        "id": "qOWufMv_wxmu",
        "colab": {
          "base_uri": "https://localhost:8080/"
        },
        "outputId": "28af710c-3aa8-4c4b-c32a-d9862924e18b"
      },
      "execution_count": null,
      "outputs": [
        {
          "output_type": "stream",
          "name": "stdout",
          "text": [
            "Índice de Menor Valor:  346\n",
            "Menor Valor:  0.012012012012013074\n",
            "Preço de Equilíbrio:  2.6\n",
            "Quantidade de Equilíbrio:  9.8\n"
          ]
        }
      ]
    },
    {
      "cell_type": "code",
      "source": [
        "# Aqui, vou printar os valores que obtemos a partir das equações para termos um benchmark dos reais valores de equilíbrio\n",
        "preco = (b - d)/(c + a)\n",
        "quantidade = (b * c + a * d)/(c + a)\n",
        "print('Preço de Equilíbrio: ', round(preco, 2))\n",
        "print('Quantidade de Equilíbrio: ', round(quantidade, 2))"
      ],
      "metadata": {
        "colab": {
          "base_uri": "https://localhost:8080/"
        },
        "id": "eHw0TCrGtplf",
        "outputId": "0c617cf4-e8c5-490e-8313-fd29c105ba91"
      },
      "execution_count": null,
      "outputs": [
        {
          "output_type": "stream",
          "name": "stdout",
          "text": [
            "Preço de Equilíbrio:  2.6\n",
            "Quantidade de Equilíbrio:  9.8\n"
          ]
        }
      ]
    }
  ]
}