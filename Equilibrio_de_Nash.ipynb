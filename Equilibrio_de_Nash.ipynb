{
  "nbformat": 4,
  "nbformat_minor": 0,
  "metadata": {
    "colab": {
      "provenance": []
    },
    "kernelspec": {
      "name": "python3",
      "display_name": "Python 3"
    },
    "language_info": {
      "name": "python"
    }
  },
  "cells": [
    {
      "cell_type": "code",
      "execution_count": null,
      "metadata": {
        "id": "mFuuaZAxLEbb"
      },
      "outputs": [],
      "source": [
        "import numpy as np"
      ]
    },
    {
      "cell_type": "markdown",
      "source": [
        "O Dilema dos Prisioneiros pode ser representado pelo seguinte jogo:\n",
        "![image.png](data:image/png;base64,iVBORw0KGgoAAAANSUhEUgAAAyAAAAHHCAIAAADIzKssAAAgAElEQVR4nO3dfUxUV/7H8YPbVgRsMRFhpWOQ2lqLBR+malhs4qwIy66rq1RDG8lCE7fgdqlxa8A0lqxNYTUGH+LQGGt3FSHq0KBs6qCEGjQEDT6AUJZikWZ2djuDuz5CMWvl98f59e50UKrDYa4z8379sblz7p17vnhJ+ey5554bNDAwIAAAAKDOKL0LAAAA8DcELAAAAMUIWAAAAIoRsAAAABQjYAEAAChGwAIAAFCMgAUAAKDYE3oXAAD+7+7du7du3dK7Cl8VEhIyevRovasAHg0jWAAAAIoRsAAAABQjYAEAAChGwAIAAFCMgAUAAKAYAQsAAEAxAhYAAIBiBCwAAADFCFgAAACKEbAAAAAUI2ABAAAoRsACAABQjIAFAACgGAELAABAMQIWAACAYgQsAAAAxQhYAAAAihGwAAAeqqurmzp16tSpU8+ePat3LcDjJWhgYEDvGgDAz929e/fWrVt6V6FYT0/PypUrx48ff/XqVSHEwYMHIyIiRqKjkJCQ0aNHj8SZgZHDCBYAwBMlJSV2u/2Pf/xjcXGx3W4vKSnRuyLgMcIIFgCMOOUjWMXFxZ988okQorS01GQyPczenp6e48ePt7W1VVZWCiGWL18eFxe3aNGiwcNOPT09Fovl888/b25uNplMSUlJv/nNb0JCQrQDNmzYIE8y2ObNm5csWaLop/x/jGDBFz2hdwEAgEc2Z84cGaHOnj07OGDJXUKIefPmyY3u7u7s7Gy73a4dU1lZWVlZ+fHHH+/duzcmJkZrP3v27KpVq7SPdXV1dXV1gw8DMDQCFgD4Hi05HT9+PD8/33VXW1ub3Fi+fLkcdurr69PS1caNG2fMmCGEqK+v37Ztm91uz87O/tvf/qYdqZ1NHnn58uUDBw40NzevX7/+0KFDbmVs3rzZrWXKlClqf1LARxGwAMD3hISEmEymuro6u93e3d3tOrZ0+fJluTF37ly5ceLECZmuXO/fxcXFTZw4cf369Xa7/cSJE7J98JFxcXEJCQkpKSlCCLeOhBDK7wYCfoNJ7gDgk1JTU+VGc3Oza/uZM2fkRmJiotxob293a3nQAdpGcnKydlhMTMzp06cPHTrELULg4RGwAMAnDY5HQoi+vj45/dxkMmmz12/evCk33OazDz5A23Cd0j74iwB+FAELAHxSREREQkKCEOL48eNaY2trq9xISkrSpywAQgjmYAGA71qyZElzc7PrNKzOzk6562c/+5kXCtAm1EtxcXFe6BTwCQQsAPBV8nlAIURzc7MMWKdPnxZCJCQkeGe+1LJly1w/dnR0eKFTwCdwixAAfFVcXFx0dLT4fmJ7X19fXV2dEGLBggU6VwYEPAIWAPiw1157TQghJ7ZrE7Bmz57tnd47fsg7nQI+gYAFAD5My1JtbW3nzp0TQkRHR8+ZM0fXogAQsADAl02fPl1uXL58+fPPPxdCLFq0yO2Yp59+Wm709PS4tmsfDQaD25F9fX2uR7a1tbm1ABgaAQsAfFhISEhWVpYQQr7QRggxePhq2rRpcqOhocG1Xfs4ceJEtyNPnDihHdbT07Ns2bKZM2d2d3er/wEAP8VThADg2+SLn7X13LXXFGqSk5Ojo6Ptdvv69etv374tnz28ePHin/70JyFEdHS0tm6765FCiClTpvT29spXR9/3ycQjR464tYwdO3bwy6eBABQ0MDCgdw0A4Ofu3r1769atETp5T0+Ptqzo8uXLP/zww8HHdHd3a+97dhUdHb13717X5FRXV5eTkzP4DPv379fGxjZs2CCn1Q/2oAKGIyQkZPTo0WrPCYw0bhECgG+LiIjQBo20Fzy7iYmJOXjw4MaNG7UjTSbTxo0bDx486DYuZTKZampqsrKy5AIQ0dHRWVlZNTU1TJwHHgkjWAAw4kZ0BMvvMYIFX8QIFgAAgGIELAAAAMUIWAAAAIoRsAAAABQjYAEAAChGwAIAAFCMgAUAAKAYAQsAAEAxAhYAAIBiBCwAAADFCFgAAACKEbAAAAAUI2ABAAAoRsACAABQjIAFAACgGAELAABAMQIWAACAYgQsAAAAxQhYAAAAihGwAAAAFAsaGBjQuwYA8HMDAwP8x9ZjQUFBQUFBelcBPBoCFgAAgGLcIgQAAFCMgAUAAKAYAQsAAEAxAhYAAIBiBCwAAADFCFgAAACKEbAAAAAUI2ABAAAoRsACAABQjIAFAACgGAELAABAMQIWAACAYgQsAAAAxQhYAAAAihGwAAAAFCNgAQAAKEbAAgAAUIyABQAAoBgBCwAAQDECFgAAgGIELAAAAMUIWAAAAIoRsAAAABQjYAEAAChGwAIAAFCMgAXgcZSXlzfhASwWi97Vec4PfgQvuO/VT0tLKykpcTgcbgcr/Ce1WCzybMM/FUDAAgD4gKampqKiorS0tK6uLr1rAX7cE3oXAABDMZvNbi0vvPCCLpXA+1yv/qlTpyoqKmw22+9///vPPvtMa8/IyBBCjB07dvjdjR07Vp7NVWZmptVqdTqdwz8/AgoBC8BjLT09Xe8SoBvXq5+enj5u3Diz2dzU1FRTU5OSkiLbt2/frqq7lJQU7bRSb2+v1WpVdX4EFG4RAgB8Q2Zmptz44osvvNPjV1995Z2O4H8IWAB8WENDQ2ZmppyYXFhY6DY7p6WlpbCwUJsf3dvb6zaFefD86PtOc3Y4HCUlJbNnz54wYcLs2bPdplrLr+Tl5TkcDtldYWGh3NXb21tSUiJPmJmZWVNTc9+fwmKxpKWlycNkncP/l/FLsbGxcqO7u1trdLuIQ1wOudf1F6alpcX1/G5XPy8vb+HChfftRQjR1dUlzy9/wRoaGkbgJ4YP4xYhAF/V0NCwdOlS7aPZbDabzY2NjfLPcEtLi/bXsampSU6R9qAXh8ORlpZms9nkR5vNVlRUVFZWVl9fHxoa6npkVlZWU1OTEOLatWuyJScnR7vBZLVa73uzSU7x0T4WFRVduHBh3759HpQKV4Mvx969e/Pz87UD5C9MVVVVYmLifc+QkJBQUVFx311uv3tNTU1Lly4d4lQIQIxgAXistfyQ666PPvpICJGbm+t0Op1Op5wQfeTIEbn3008/FUIYDIaqqiqn01lbW2swGDwooLy83GazGQyGxsZGp9N55cqV1NRUm822e/du18MqKiqamprMZnNtbe3KlSuFEF1dXTI5FRcXu1boqqGhwWq1pqamXrp0STvAarW6/aR4VIMvh8PhkOmqoKBAXo6CggIhxAcffPCgk2RnZ2uXTH5FmxMmf/fMZrP8lTAajUKIgwcPjvCPBV9CwALwWFv4Q667ZHyZNGmS/Jienl5bW7t27Vr5Uf5pXLNmjRxUiI+Pl39QH1VZWZk8jxwYCw0Nfeutt4QQJ06ccDvSbDanp6fHx8fLHs+fPy/b5R94cb8J+4mJiWazubS0NDIy0vWAL7/80oNS4crtcpw6dUq2r1692nWjqalp8NpaP2rLli379++X1ys0NDQ7O1sI8aDhLgQmAhYAXyWfqM/Pz7dYLHLeUnx8vNsxTz/99DB7kTcHXc8TFhYmhJC3n1zNnz//vmdwu5PoJj09fegD4JkfvRzahgcBKzIy0u15Q8ANc7AAPNaGWH8oLy/v9OnTNpstNzdXCFFQUPD666/LoSDlcnNzZS9D8Ljrmpoau93e3Nzs2ddxXw+6HKoWanc4HKdOnWptbb127VpnZ6eSc8KfELAA+KrY2Nj6+vqDBw/u2rVLm3t++PBh7VkzhTIyMh40IjIcvb29rhPh4QWDZ8J5kIxrampWrVqlqCL4JwIWAB8mp7+sXLny2LFjRUVFNputsLBwJB7Bmz9//kgsebplyxar1Wo0GouLi+X9TV6ENwTtXl5MTIzHJxn+dezq6pLpqri4eOXKlaGhoRaL5UcHOBFomIMFwIfJxYdCQ0PT09PXrFkjvp/5rrl58+aPnmToY+Szh27HWCyWh5+4M8S6VnI0JTs7e/DsMQymTVR/6aWXPD6J6+Woqanx4M2G2uML2dnZzJ/DgxCwADzWLINoy3WmpaUtXbpU+3jjxg0hRGpqqvwop8Dv2rVL/gVtaWkZvA6WHHXYtWuXTEtdXV1Hjx51O2bx4sXyGG3pBDlckZWVNXTls2bNkhva0/uuy1RKMr1pi2zxGmM3rit0lJSUyOtlMBg8mGCuXQ5tfY2WlpZVq1bNmzdviKysveLwvgtnaF9sbW191Hrg97hFCOCxNvjOS0ZGhvz7mpeXt2rVqlWrVslQJceu5BoKQoiVK1fKdwPPmzfvQSdftGiR2Wy22Wwvv/yybBm8VlZmZmZ1dbXNZnNbJOK9994buvLY2NjU1FSr1Zqfn6+tb2kwGLQ4JYRYs2ZNfn6+XFx03Lhx2nP+RUVFY8eO5Tk1t39zIYTBYDh8+LAHp4qNjS0oKCj6ntZeXFw8xBysGTNmuFYil36YP3++vI5paWlJSUmdnZ3aI6WZmZksEguJESwAviolJaWqqiojI0Mukp6bm1tbW6stpZ2YmFhVVSVXgDQYDAUFBcXFxW5nSExM3L9/v+sxO3fudDsmNjb2s88+Kygo0LKXW0dDKC0t1QJiampqVVVVUlKS6wFyKUuDwWC1Wjs7O+VK9Eaj0Waz3bp165H/RfxaRkaG2Wyur6/3+CGGtWvXms1mbYwzNTXVbDbLJaweJDIy0vU3ZOLEibLx8OHDGRkZNputoqJizpw5jY2N8reL5xWgCRoYGNC7BgDwBm0m8hBLPwCAEoxgAQAAKEbAAgAAUIyABQAAoBhzsAAAABRjBAsAAEAxAhYAAIBiBCwAAADFCFgAAACKEbAAAAAUI2ABAAAoRsACAABQjIAFAACgGAELAABAMQIWAACAYgQsAAAAxQhYAAAAihGwAAAAFCNgAQAAKPaE3gUA8BktLS1Hjx69c+eO3oVAsYGBgaCgIL2rgGI/+clP5s2bl5qaqnchAYqABeBhnTp16tq1a3pXAeBh1dbWErD0QsAC8LC+++47IURQUNCkSZP0rgXKOByO/v7+UaNGGQwGvWuBMj09PX19fQMDA3oXErgIWAAezZgxY/7whz/oXQWU2bNnT3t7e3BwMJfVn5SXl587d07vKgIak9wBAAAUI2ABAAAoRsACAABQjIAFAACgGAELAABAMQIWAACAYgQsAAAAxQhYAAAAihGwAAAAFCNgAQAAKEbAAgAAUIyABQAAoBgBCwAAQDECFgAAgGIELAAAAMUIWAAAAIoRsAAAABQjYAEAAChGwAIAAFCMgAUAAKAYAQsAAEAxAhYAAIBiT+hdAAD4iXv37nm5x1Gj+D/J3jAwMDAwMODNHrmyfoCABQBq3Lp1y5sZa9SoUc8884zXugtkt2/fvnv3rjd7DA8PDwoK8maPUI6MDAAAoBgBCwAAQDECFgAAgGIELAAAAMUIWAAAAIoRsAAAABQjYAEAAChGwAIAAFCMgAUAAKAYK7kDgD7q6uoOHz5cV1cnhDCZTK+99prJZNK7KAzXgQMH/vSnP91314ULF0JCQrxcD/TCCBYA6KC0tDQnJ0emKyFEXV1dTk5OaWmpvlVh+Nra2h60i3QVUBjBAgBvO3LkyLZt24QQmzdvnjJlisPh+Oijj5qbm7dt2/bqq6/GxcXpXSCG65133nn11Vf1rgJ6ImABgLdt375dCLF58+YlS5YIIeLi4iIjI5ctWyaEuHz5MgHLD0ycOJHrGOC4RQgAXtXX15eXl2cymZKTk7VG7Y/xmTNndKoLajQ2NupdAh4LjGABgFeFhIQsWbJEjl0NxrCHr7Pb7UKIKVOm6F0IdEbAAgD9dXd3y42wsDB9K4FCcsL75MmTmd4egAhYAKCznp6eP//5z0KI6OjoxMREvcuB53p6euTGgQMHKisrtfbly5evXbs2IiJCp7qgAwIWAOhmw4YN2p/hhISE999/n7/BPs3pdMoN13QlP16+fPkvf/kLQ1mBg0nuAPBYaG5urq+v7+vr07sQeC4uLq60tDQrK2v//v0dHR0dHR2nT5+W68c2Nzcz/z2gELAAQDcffvhhR0fHhQsXNm/eLITYtm3bX//6V72LwrCYTKb8/Pw5c+bIjxEREdrC7h0dHfrVBW8jYAGAzuRzhXKc4/Dhw3qXA8W02742m03fSuBNBCwAeCyMGzdOfP+QP3wa93khCFgA4GU9PT3FxcUmk8n1z3BfX5+coJOQkKBfaRius2fPrlix4re//a1bo9yYO3euHkVBHzxFCABeFRERcf78ebvd/qtf/eq9996LjIwUQlRXV8uxqzfeeEPvAuG5yZMnNzc3CyFycnKysrJCQ0MdDscHH3wg97IGR0AhYAGAt23evDk7O9tut+fk5Li2u70/Bz4nIiKitLQ0Jyenrq6urq7OdVdpaSlrcAQUAhYAeFtMTMzBgwePHz9+5MgROeBhMplSU1OTk5NZJ8nXmUymTz/9tLq6+vjx43a7PTo6etGiRYsXL+YlSIGGgAUAOoiIiHjjjTe4IeiX4uLi4uLi8vPz9S4EemKSOwAAgGIELAAAAMUIWAAAAIoRsAAAABQjYAEAAChGwAIAAFCMgAUAAKAYAQsAAEAxAhYAAIBirOQOAGo8+eSTAwMDXusuKCjIa30FuCeeeGLUKMYj8GgIWACgBq8R9FdjxozRuwT4HiI5AACAYgQsAAAAxbhFCP80YcKEB+2qra2Nj4/3ZjEKyZ/LbDanp6frXQsA4IEYwQIAAFCMESz4M6PRmJ2d7dYYGRmpSzEAgMBBwII/e/7557mVBgDwPm4RAgAAKEbAQkBraGjIzMycMGHChAkTCgsLu7q6tF29vb0WiyUtLW3ChAmZmZkWi6W3t1ceqR0jP1osFq3FYrG4HSOE6OrqKiwslO2ZmZkNDQ2ue+VX8vLyHA6HPKywsHBweYO/6HoGWeeECRNKSkp6e3uH/y8DABgObhEicDU0NCxdulT7aDabzWZzY2NjbGysEGLDhg0VFRVyl9VqtVqtnvXicDhee+01m83meqqqqqrExES3I7OyspqamoQQ165dG1zeg2rIzMx0bS8qKrpw4cK+ffs8qxYAoAQjWPBn165da3HhOkAlhPjoo4+EELm5uU6n0+l0ms1mIcSRI0eEEF1dXTJdZWRkXLp0yel07t+/32AweFBDeXm5zWYzGo3yPMXFxUKIDz74wO2wioqKpqYms9lcW1u7cuVKIcTx48eFEAaDobGx0el0XrlyRVboqqGhwWq1pqamypPLA6xWa0tLiwelAgBUIWDBn1mt1oUutm/f7rZXCDFp0iT5MT09vba2du3atUKI8+fPy8YNGzbIpw5TUlIKCgo8qKGsrEyeXJ5HhqempiaHw+F2pFzdKj4+Xg5uybS0Zs0aOaIWGho6eMJ+YmKi2WwuLS2VJ9cO+PLLLz0oFQCgCgELgSsjI0MIkZ+fL+dXCSEGL0A6/DUd5M3Bp59+Wn4MDQ2VG4MD1vz58wd/Xfvig6Snp2vnBAA8JpiDBX+WkZHhNmrlKi8v7/Tp0zabLTc3VwhRUFDw+uuvj9AqWbm5ubKXIXjcdU1Njd1ub25u9uzrAADlCFgIXLGxsfX19QcPHty1a5fNZisqKiorKzt8+LC8JadWRkaG2wCVkiTX29ubk5Pj8QR8AMAIIWAhoIWGhmZnZ69cufLYsWNFRUU2m62wsHAkHsGbP3/+SCx5umXLFqvVajQai4uL5f3NIV7CCADwGuZgIaDJlaXk/PE1a9aI72e+ax5mTambN28+0jE1NTVuzzN6fHI5ET47O9t3X18NAH6JgAV/1tnZaRlEW8IgLS1t6dKlNTU18uONGzeEEKmpqUKIF154QTbu3r1bbrS0tBQVFbmdX06r2rVrl5yx3tXVdfTo0QcdI0NVS0vLhg0b5s2bN3iS+9Bf7O3t3bt3r9sxcuUIbZGth89tAIARxS1C+LOmpia5dKcrs9ksx3vy8vJWrVq1atUqGark2NVbb70lhIiPj09NTbVarUVFRYNzlWbRokVms9lms7388suyZfBaWZmZmdXV1Tabbd68eVpjcXHxj87B0k7u+kWDwaDFKSHEmjVr8vPz5eKi48aN01ZGLSoqGjt2bEpKytBdAABGCCNYCFwpKSlVVVUZGRlykfTc3Nza2lptgfXS0lJt4Suj0Wg2m+Uaoa4SExP3799vNBqFEAaDoaCgYOfOnW7HxMbGHj58WHuEUJ4qOzv7R8tLTEysqqqSJxdC5ObmVlVVJSUluR6TnZ1tNpsNBoPVau3s7JQr0RuNRpvNduvWrUf75wAAqBM0MDCgdw2Ab7BYLDInOZ1OvWvRx44dO77++uuQkJBNmzbpXQuU2bNnT3t7O5fVz5SXl587d04IsXXrVr1rCVCMYAEAAChGwAIAAFCMgAUAAKAYAQt4WOnp6U6nM2AnYAEAHh4BCwAAQDECFgAAgGIsNApAZ3a7/fLly97s8cUXX1Tysm0M7caNGxcvXvRmj88+++xzzz3nzR6BByFgAdDZP/7xj8GvGBpR48aNI2B5wY0bN7x8ZZOTkwlYeExwixAAAEAxAhYAAIBiBCwAAADFCFgAAACKEbAAAAAUI2ABAAAoRsACAABQjIAFAACgGAELAABAMVZyB+BjwsLC5s+fbzQaw8PDhRDt7e2NjY2tra1614XhioyMTEpKmjhxYkxMzPXr1//1r39dunTpzJkzetcFeIKABcCXhIWF5eTkREVFaS3Tpk2bNm1adXX1yZMndSwMwxQbG/vmm28GBwfLj+Hh4eHh4dOmTXv++efLysr0rQ3wAAELgC/JysqKiorq7+8/ceLE1atXDQZDUlJScHBwcnJyU1PT7du39S4QHvrlL38p01VDQ0NHR8f48eNfeeWVqKiomTNnXrx4kRFK+BwCFgCfERsbGxMTI4SoqKiQf3Hl/y5cuDA4ODgmJoY/wz5Ku7K1tbXHjh2TjU1NTWvXrg0PD583bx5XFj6HSe4AfEZvb29DQ0N7e7vrn1ubzSY3DAaDTnVhuKZOnSo3Tp06pTXevn37iy++EEJMnjxZn7KAYWAEC4DPcDgclZWVD9r7n//8x5vFYCS43eTt6+sTQmgTswAfwggWAN+mDVz19PToWwkAaAhYAHzY9OnTk5KShBDffPNNV1eX3uUAwP/jFiEAn7R161Ztu7u7+9ChQzoWAwBuGMEC4POioqJmzZqldxUA8D+MYAHwSevWrRNCREZGJicnz5w5c+HChd9++y1rjQJ4TDCCBcCHORyOqqoquT1lyhR9iwEADQELgG/THuwfM2aMvpVg+MLCwlw/hoSECCH6+/t1KgfwHAELgM+YPn36u++++/bbb7s1yo1r167pURQU6OjokBtGo1FrDAsLe+mll4QQV65c0acsYBiYgwXAZ/T09MjXPL/77rv19fW9vb2hoaGvvvqq3Hvx4kVdq4Pnurq6vvnmm6ioqOTk5DFjxthsttDQ0Dlz5oSHhwshGhsb9S4QeGQELAA+w+FwVFdXL168OCoqasWKFa67Lly4wOvqfFplZeWbb74ZHBy8cOFC13auLHwUAQuALzl58uTVq1dnzJgxbdo0+QaV7u7uS5cu8fygr+vq6tqxY0dycvLkyZPlwBVXFj6NgAXAx7S2tjKk4ZccDkdZWZneVQBqMMkdAABAMQIWAACAYgQsAAAAxQhYAAAAihGwAAAAFCNgAQAAKEbAAgAAUIyABQAAoBgLjepm3bp1epegj61bt+pdAgAAI4uABUBnU6dO/d3vfufNHuUbozHSIiIivHxlx40b583ugCEQsADoLDw8XL57Dn5mzJgxL7zwgt5VAPpgDhYAAIBiBCwAAADFCFgAAACKEbAAAAAUI2ABAAAoRsACAABQjIAFAACgGAELAABAMQIWAACAYgQsAAAAxQhYAAAAihGwAAAAFCNgAQAAKEbAAgAAUIyABQAAoBgBCwAAQDECFgAAgGIELAAAAMWe0LsAqLd169YH7frkk09aW1uFEG+//XZMTIwQYt26dff9end3986dO0eyTAAA/BYjWAAAAIoxguW3rl+/3tTU5NbY09OjSzEAAAQUApbfun79+rFjx/SuAgCAQMQtQgAAAMUIWAAAAIoRsAAAABRjDpbfCg4Onj59uvaxr6+vq6tLx3rgN/r7+3fs2KF3FVDG4XAIIb799lsuqz/hkSbdEbD8VlRUVFZWlvaRda2gyr17977++mu9q4BiAwMDXFZAIQIWgEcTFBQ0ZswYvauAMv39/ffu3RNChISE6F0LlLlz5853332ndxUBjYDltxiywggZM2bMpk2b9K4CyuzZs6e9vT0kJITL6k/Ky8vPnTundxUBjUnuAAAAihGwAtS3334rNyIjI13btY/aAQAA4FERsAKU3W6XG8nJya7ts2bNcjsAAAA8KuZg+a3w8PBf/OIXbo02m621tVUIcerUqaSkpODg4JkzZ/70pz+VjVOmTImJiRFC9Pf3nzp1yvs1AwDgHwhYfis8PHzhwoVujbW1tTJL3b59++jRo7/+9a+Dg4OjoqKioqK0Y/r7+z/++OPbt297tVwAAPwIAStwnTlzpru7Ozk5efLkyeHh4UKI69evX7ly5cSJE3LhQQAA4BkClh9at27dQx7pcDjKyspGtBgAAAIQk9wBAAAUI2ABAAAoRsACAABQjIAFAACgGAELAABAMQIWAACAYgQsAAAAxQhYAAAAihGwAAAAFCNgAQAAKEbAAgAAUIyABQAAoBgBCwAAQDECFgAAgGIELAAAAMUIWAAAAIoRsAAAABQjYAEAACj2hN4FAICfuHPnjpd7HD16tJd7DEz//e9/7927580en3rqqaCgIG/2COUIWACgRn9/vzf/DI8aNYqA5R39/f137971Zo9PPfWUN7vDSCBg6Wbjxo16lwAAAEYEAUs3zzzzjN4lAACAEcEkdwAAAMUIWAAAAIoRsAAAABQjYAEAAChGwF9vT1wAAAohSURBVAIAAFCMgAUAAKAYAQsAAEAxAhYA6KOurq64uHjFihVTp07dsGHDgQMH+vr69C4KKh05ckReXL0LgQ5YaBQAdFBaWrpt2zbtY2VlZWVl5ccff7x3796YmBgdC4NC//znP/UuAbphBAsAvK2trU2mK5PJVFpa+umnn8p3Z9nt9t27d+tdHdTo7u4+fPiw3lVAN4xgAYC3VVdXCyESEhK2bt0aEhIihIiLiwsLC1u/fn1lZeXq1asZxPJdbW1ty5Yt07sK6I8RLADwtuPHjwshlixZItOVlJycLDeam5v1KQuAOoxgAYC32e12IURYWJhro2vYgu+Ki4vr6OiQ21OnTtW3GOiIESwAAADFCFgAAACKEbAAAAAUI2ABAAAoRsACAABQjIAFAACgGAELALwtOjpaCHH79m3XRl5ECPgTAhYAeNuiRYuEEEeOHHFtPHHihNxISEjQoSYAShGwAMDbTCaTEKK5uXnDhg1nz55ta2s7cuTI9u3bhRDLly/nPTmAH2AldwDwtjlz5rzzzjvbtm2rrKysrKzU2qOjo1evXq1jYQBUIWABgA5ycnKmTp1aW1srA1ZCQsKCBQvS09MjIiL0Lg2AAgQsANCHyWQymUwffvih3oVgpGgvJUQAYg4WAACAYgQsAAAAxQhYAAAAihGwAAAAFCNgAQAAKEbAAgAAUIyABQAAoBgBCwAAQDECFgAAgGKs5A4AaoSEhAwMDHitu6CgIK/1FeCCg4O9eWXhHwhYAKDGk08+qXcJGBFcWXiAW4QAAACKEbAAAAAUI2AhcE0YZPbs2YWFhS0tLW5HWiwWeYDCfi0Wi5KzAQAeQwQs4H9sNpvZbF64cGFNTY3etQAAfBiT3BHojEZjdna23L558+auXbtsNtuqVasuXboUGRkp28eOHZuRkaGqR3mqsWPHujZmZmZarVan06mqFwCAjghYCHTPP/98enq69vHFF19cunSpEKK8vHzt2rWyMSUlJSUlRVWP27dvd2vp7e21Wq2qzg8A0B23CIEfSExMNBgMQogTJ054rdOvvvrKa30BALyAgAW4S0pKEkI0NTVpLYMnucuWvLw8h8NRWFg4YcKEwsJCucvhcJSUlMyePVvOmi8pKXE4HK7nd5vknpeXt3Dhwvvukh2lpaXJ9pKSkt7e3pH5oQEAKnGLEBiWrKwsGcWuXbsmhHA4HGlpaTabTe612WxFRUVlZWX19fWhoaH3PUNCQkJFRcV9d8mJWdrHoqKiCxcu7Nu3T/HPAABQjREswHMVFRVNTU1ms7m2tnblypVCiPLycpvNZjAYGhsbnU7nlStXUlNTbTbb7t27H3SS7Oxss9kst51Op9PplHPCGhoarFZramrqpUuXnE6nPMZqtQ5eRQIA8LghYAHDYjab09PT4+PjExMThRBlZWVCiDVr1sTGxgohQkND33rrLeHRjK7ExESz2VxaWiofZtRm4n/55ZcK6wcAjARuEQLDMn/+fNeP8ubg008/rbWEhYWJH87oeniujzcCAHwIAQsYFm2tLFe5ubm5ublKzl9TU2O325ubm5WcDQDgHQQsQL2MjAy3kS0P9Pb25uTksD4WAPgiAhbgrrOzUwhhNBo9PsP8+fOHf3dvy5YtVqvVaDQWFxfHx8cLIVS9DBEAMNKY5A78QEtLi5wvlZyc7MHX5SKlN2/edG20WCxuS2E9DPnYYHZ2tkxXAAAfQsBCoLt27VrL9ywWS1ZWlmz/+c9/7sHZFi9eLITYtWuXtpiCxWLJzc3VTntf2nsJXZdgkFlNW1Krq6vLg3oAALrgFiECndVqHTzPaf/+/Z6NG2VmZlZXV9tsNm1xdum9994b4lszZsyQG/JbcumHNWvW5Ofny8VFx40bpy1GWlRUNHbsWIXvRgQAKMcIFvA/RqOxoKCgtrbW4/gSGxv72WefFRQUyPEnIURubm5tba1cJetBIiMj9+/fL2d9GQyGiRMniu8XIDUYDFartbOz02w2NzY2Go1Gm81269Ytz8oDAHhH0MDAgN41APANO3bs+Prrr0NCQjZt2qR3LVBmz5497e3tXFY/U15efu7cOSHE1q1b9a4lQDGCBQAAoBgBCwAAQDECFgAAgGIELAAAAMUIWAAAAIoRsAAAABRjoVEAOvv73/9++vRpb/a4YMGC5557zps9BiaHw1FdXe3NHhMSEl555RVv9gg8CAELgM5u3LjR3t7uzR7nzJnjze4C1p07d7x8ZZ999llvdgcMgVuEAAAAihGwAAAAFCNgAQAAKEbAAgAAUIyABQAAoBgBCwAAQDECFgAAgGIELAAAAMVYaBSAL1m+fHliYuJ9d73//vu3b9/2cj0YCdOnT8/KyhJCrFu3Tu9aAA8xggXAl0ycOPFBu0hXfmP8+PF6lwAMFyNYAHzPhQsXLl68qHcVGBFhYWG8TxB+gIAFwPf8+9//bm1t1bsKKLZ161a9SwCU4RYhAF8SFRWldwkA8OMYwQLgS4KDg4UQNptN70Kgnjal/e23346JidG3GGCYCFgAfNX06dOFEN3d3UxvB/C4IWAB8BmRkZFyY8GCBfIxfqm7u/vQoUMOh0OnugDAHXOwAPiMiIgIueF2/ygmJmb16tVhYWF6FAUA98EIFgCf0draWl1dPWXKlEuXLp05c0YIERkZmZmZGRUVFR4ebjQaT548qXeNACAEI1gAfMvJkyf37Nkj05UQwuFw7Nu3T24/++yz+tUFAD9AwALg27SpV+PGjdO3EgDQELAA+BjmWgF4/DEHC4DPmDt37qJFi4QQmzZtcm2UG5cvX9anLAAYhIAFwGd0d3eHh4cLId599936+vre3t7x48cnJyfLvefPn9e1OgD4HwIWAJ/hcDiqq6sXL14cFRW1YsUK113V1dWsgwXg8UHAAuBLTp48efXq1Xnz5k2ePDk4OLi/v//KlSuNjY28+xnAY4WABcDHtLa2Eqf8286dO/UuARguniIEAABQjIAFAACgGAELAABAMQIWAACAYgQsAAAAxQhYAAAAihGwAAAAFCNgAQAAKEbAAgAAUIyABQAAoBivygGgs7lz586dO1fvKqDepEmTtm7dqncVgD4YwQIAAFCMgAUAAKAYAQsAAEAxAhYAAIBiBCwAAADFCFgAAACKEbAAAAAUI2ABAAAoRsACAABQjIAFAACgGAELAABAMQIWAACAYgQsAAAAxQhYAAAAihGwAAAAFCNgAQAAKEbAAgAAUIyABQAAoBgBCwAAQDECFgAAgGIELAAAAMUIWAAAAIoRsAAAABR7Qu8CAPiYO3fulJeX610FlLHb7YLL6ne6urr0LiHQEbAAPKxRo0YJIb777rtz587pXQsU47ICanGLEMDDmjVrVlBQkN5VAHhYc+fO1buEwBU0MDCgdw0AAAB+hREsAAAAxQhYAAAAihGwAAAAFCNgAQAAKEbAAgAAUIyABQAAoBgBCwAAQLH/A1veiEtJ3yRzAAAAAElFTkSuQmCC)"
      ],
      "metadata": {
        "id": "Vv3Omma2DoO_"
      }
    },
    {
      "cell_type": "code",
      "source": [
        "S0 = ['Esquerda', 'Direita'] # Estratégias do jogador 0\n",
        "S1 = ['Esquerda', 'Direita'] # Estratégias do jogador 1\n",
        "\n",
        "jogador0 = np.array([[3, 0],                #Payoff do jogador 0, linha: estratégia do jogador 0, coluna: estrategia do jogador 1\n",
        "                     [5, 1]])   \n",
        "jogador1 = np.array([[3, 5],                #Payoff do jogador 1, linha: estratégia do jogador 0, coluna: estrategia do jogador 1\n",
        "                     [0, 1]])\n",
        "\n",
        "\n",
        "assert len(S0) == len(jogador0) == len(jogador1)\n",
        "assert len(S1) == len(jogador0[0]) == len(jogador1[0])"
      ],
      "metadata": {
        "id": "65R7MMDxLzdX"
      },
      "execution_count": null,
      "outputs": []
    },
    {
      "cell_type": "code",
      "source": [
        "# Primeiro, vamos juntar as duas matrizes criando um jogo como o da imagem acima\n",
        "jogo = []\n",
        "for i in range(len(jogador0)):\n",
        "  payoff = []\n",
        "  \n",
        "  for j in range(len(jogador0[0])):\n",
        "    payoff.append([jogador0[i][j], jogador1[i][j]])\n",
        "\n",
        "  jogo.append(payoff)\n",
        "\n",
        "print(jogo[0])\n",
        "print(jogo[1])"
      ],
      "metadata": {
        "colab": {
          "base_uri": "https://localhost:8080/"
        },
        "id": "64bd8aqNEAJY",
        "outputId": "9799713e-73b8-47c2-fc95-1803f61008bc"
      },
      "execution_count": null,
      "outputs": [
        {
          "output_type": "stream",
          "name": "stdout",
          "text": [
            "[[3, 3], [0, 5]]\n",
            "[[5, 0], [1, 1]]\n"
          ]
        }
      ]
    },
    {
      "cell_type": "code",
      "source": [
        "# Agora, queremos achar as melhores estratégias.\n",
        "# Para o jogador 0\n",
        "for i in range(len(jogador0[0])): \n",
        "    aux = []\n",
        "    \n",
        "    for j in range(len(jogador0)):\n",
        "      aux.append(jogador0[j][i]) # obtem os payoffs para cada jogada do jogador adversario, isto é quando o adversario escolhe 0('Esq') e 1('Dir')\n",
        "\n",
        "    argmax = np.argmax(aux) # Argumento que maximiza a linha\n",
        "\n",
        "    jogada = [S0[argmax]] # Jogada que o jogador 0 irá efetuar\n",
        "\n",
        "\n",
        "jogada0 = jogada\n",
        "\n",
        "# Para o jogador 1\n",
        "for i in range(len(jogador0[0])): \n",
        "    aux = []\n",
        "    \n",
        "    for j in range(len(jogador0)):\n",
        "      aux.append(jogador0[j][i]) #obtem os payoffs para cada jogada do jogador adversario\n",
        "\n",
        "    argmax = np.argmax(aux) # Argumento que maximiza o oponente\n",
        "\n",
        "    jogada = [S1[argmax]] # Jogada que o oponente irá efetuar\n",
        "\n",
        "jogada1 = jogada"
      ],
      "metadata": {
        "id": "wRvK1_2witG6"
      },
      "execution_count": null,
      "outputs": []
    },
    {
      "cell_type": "code",
      "source": [
        "print('Com isso, a estratégia para o jogador 0 é escolher:', jogada0)\n",
        "print('Com isso, a estratégia para o jogador 1 é escolher:', jogada1)\n",
        "\n",
        "indice0 = S0.index(jogada0[0])\n",
        "indice1 = S1.index(jogada1[0])\n",
        "\n",
        "payoffs = jogo[indice0][indice1]\n",
        "print('Os payoffs serão:', payoffs)"
      ],
      "metadata": {
        "colab": {
          "base_uri": "https://localhost:8080/"
        },
        "id": "U3sDYsHNmWxf",
        "outputId": "94a8e0df-3219-4b38-805a-88a136c4313a"
      },
      "execution_count": null,
      "outputs": [
        {
          "output_type": "stream",
          "name": "stdout",
          "text": [
            "Com isso, a estratégia para o jogador 0 é escolher: ['Direita']\n",
            "Com isso, a estratégia para o jogador 1 é escolher: ['Direita']\n",
            "Os payoffs serão: [1, 1]\n"
          ]
        }
      ]
    }
  ]
}