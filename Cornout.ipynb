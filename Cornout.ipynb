{
  "nbformat": 4,
  "nbformat_minor": 0,
  "metadata": {
    "colab": {
      "provenance": []
    },
    "kernelspec": {
      "name": "python3",
      "display_name": "Python 3"
    },
    "language_info": {
      "name": "python"
    }
  },
  "cells": [
    {
      "cell_type": "markdown",
      "source": [
        "#Modelo de Cornout"
      ],
      "metadata": {
        "id": "5yZjzU3TnT87"
      }
    },
    {
      "cell_type": "code",
      "execution_count": null,
      "metadata": {
        "id": "a8MqvovenGWo"
      },
      "outputs": [],
      "source": [
        "import numpy as np"
      ]
    },
    {
      "cell_type": "code",
      "source": [
        "# Declarando as variáveis exógenas\n",
        "a = 100\n",
        "c = 5\n",
        "\n",
        "assert a > 0, c > 0"
      ],
      "metadata": {
        "id": "2DoXoMCvnanj"
      },
      "execution_count": null,
      "outputs": []
    },
    {
      "cell_type": "markdown",
      "source": [
        "Temos que o lucro de cada firma é dado por:\n",
        "$$ \\pi_i = P(Q)q_i - C(q_i).$$\n",
        "\n",
        "Isto é, usando $P(Q) = a - Q$ e $C(q_i) = cq_i$. Temos:\n",
        "\n",
        "$$ \\pi_i = (a - Q)q_i - cq_i. $$\n",
        "\n",
        "Como $Q = \\sum_{j=1}^{n}{q_j}$. Então:\n",
        "\n",
        "$$ \\pi_i = (a - \\sum_{j=1}^{n}{q_j})q_i - cq_i $$\n",
        "\n",
        "Portanto, \n",
        "\n",
        "$$ \\pi_i = (a - \\sum_{j=1}^{n}{q_j} - c)q_i $$"
      ],
      "metadata": {
        "id": "Am6Iure3pLyh"
      }
    },
    {
      "cell_type": "markdown",
      "source": [
        "Derivando o lucro da firma $i$ em relação a sua quantidade, temos:\n",
        "\n",
        "$$\\frac{\\partial \\pi_i}{\\partial q_i} = a - q_1 - q_2 - ... - 2q_i - ... - q_n - c  $$\n",
        "\n",
        "Igualando a $0$, temos:\n",
        "\n",
        "$$ a - q_1 - q_2 - ... - 2q_i - ... - q_n - c  = 0 $$\n",
        "\n",
        "Isolando os $q$s:\n",
        "\n",
        "$$ q_1 - q_2 - ... - 2q_i - ... - q_n  = - a + c $$\n",
        "\n",
        "$$ q_1 + q_2 + ... + 2q_i + ... + q_n = a - c $$ \n",
        "\n",
        "Com isso, temos o seguinte sistema:\n",
        "\n",
        "$$ 2q_1 + q_2 + ... + q_n = a - c $$\n",
        "\n",
        "$$ q_1 + 2q_2 + ... + q_n = a - c $$ \n",
        "\n",
        "$$ ... $$\n",
        "\n",
        "$$ q_1 + q_2 + ... + 2q_n = a - c $$\n",
        "\n",
        "\n",
        "Isto é,\n",
        "\n",
        "$$ \\begin{bmatrix}\n",
        "  2 & 1 & \\cdots & 1 \\\\\n",
        "  1 & 2 & \\cdots & 1 \\\\\n",
        "  \\vdots & \\vdots & \\ddots & \\vdots \\\\\n",
        "  1 & 1 & \\cdots & 2\n",
        "\\end{bmatrix}\n",
        " \\begin{bmatrix}\n",
        "  q_1 \\\\\n",
        "  q_2 \\\\\n",
        "  \\cdots \\\\\n",
        "  q_n\n",
        "\\end{bmatrix}\n",
        "=\n",
        "\\begin{bmatrix}\n",
        "  a - c \\\\\n",
        "  a - c \\\\\n",
        "  \\cdots \\\\\n",
        "  a - c\n",
        "\\end{bmatrix}\n",
        "$$\n"
      ],
      "metadata": {
        "id": "C7e6CYJOrn9q"
      }
    },
    {
      "cell_type": "code",
      "source": [
        "# Com isso, podemos declarar as matrizes\n",
        "sis = np.array([[2, 1, 1],\n",
        "                [1, 2, 1],\n",
        "                [1, 1, 2]]) \n",
        "\n",
        "a_minus_c = np.array([[a - c],\n",
        "                      [a - c],\n",
        "                      [a - c]])\n",
        "\n",
        "assert np.linalg.det(sis) > 0"
      ],
      "metadata": {
        "id": "5GdjZrfgoH7l"
      },
      "execution_count": null,
      "outputs": []
    },
    {
      "cell_type": "code",
      "source": [
        "# Resolvendo o sistema\n",
        "q_i = np.dot(np.linalg.inv(sis), a_minus_c)\n",
        "\n",
        "q_i"
      ],
      "metadata": {
        "colab": {
          "base_uri": "https://localhost:8080/"
        },
        "id": "HJJvcWGD-vVL",
        "outputId": "1a5acb9b-7bf4-4e88-ac81-365d02c5eab6"
      },
      "execution_count": null,
      "outputs": [
        {
          "output_type": "execute_result",
          "data": {
            "text/plain": [
              "array([[23.75],\n",
              "       [23.75],\n",
              "       [23.75]])"
            ]
          },
          "metadata": {},
          "execution_count": 4
        }
      ]
    },
    {
      "cell_type": "code",
      "source": [
        "# Com isso, temos os seguintes resultados:\n",
        "quantidade = float(sum(q_i))\n",
        "preco = a - quantidade\n",
        "lucro = preco*q_i - c*q_i\n",
        "\n",
        "# Printando\n",
        "print('A quantidade de equilíbrio é:', quantidade)\n",
        "print('O preço de equilíbrio é:', preco)\n",
        "print('O lucro que a firma 1 terá é:', round(lucro[0, 0], 2))\n",
        "print('A quantidade que a firma 1 produzirá é:', round(q_i[0, 0], 2))\n",
        "print('O lucro que a firma 2 terá é:', round(lucro[1, 0], 2))\n",
        "print('A quantidade que a firma 2 produzirá é:', round(q_i[1, 0], 2))\n",
        "print('O lucro que a firma 3 terá é:', round(lucro[2, 0], 2))\n",
        "print('A quantidade que a firma 3 produzirá é:', round(q_i[2, 0], 2))"
      ],
      "metadata": {
        "colab": {
          "base_uri": "https://localhost:8080/"
        },
        "id": "ScWy-KpM_AKn",
        "outputId": "fe5f2a38-cdde-4031-e515-520fc57a5075"
      },
      "execution_count": null,
      "outputs": [
        {
          "output_type": "stream",
          "name": "stdout",
          "text": [
            "A quantidade de equilíbrio é: 71.25\n",
            "O preço de equilíbrio é: 28.75\n",
            "O lucro que a firma 1 terá é: 564.06\n",
            "A quantidade que a firma 1 produzirá é: 23.75\n",
            "O lucro que a firma 2 terá é: 564.06\n",
            "A quantidade que a firma 2 produzirá é: 23.75\n",
            "O lucro que a firma 3 terá é: 564.06\n",
            "A quantidade que a firma 3 produzirá é: 23.75\n"
          ]
        }
      ]
    },
    {
      "cell_type": "code",
      "source": [],
      "metadata": {
        "id": "w0BsUpplKVHL"
      },
      "execution_count": null,
      "outputs": []
    }
  ]
}