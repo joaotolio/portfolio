{
  "nbformat": 4,
  "nbformat_minor": 0,
  "metadata": {
    "colab": {
      "provenance": []
    },
    "kernelspec": {
      "name": "python3",
      "display_name": "Python 3"
    },
    "language_info": {
      "name": "python"
    }
  },
  "cells": [
    {
      "cell_type": "code",
      "execution_count": null,
      "metadata": {
        "id": "HaM-1k5YpDvZ"
      },
      "outputs": [],
      "source": [
        "import matplotlib.pyplot as plt\n",
        "import numpy as np"
      ]
    },
    {
      "cell_type": "code",
      "source": [
        "# Primeiro, definimos as variáveis exogenas\n",
        "\n",
        "m1 = 50 # Renda no período 1\n",
        "m2 = 80 # Renda no período 2\n",
        "\n",
        "delta = 0.4 # Fator de desconto\n",
        "\n",
        "r = 0.24 # Juros\n",
        "\n",
        "assert m1 > 0\n",
        "assert m2 > 0\n",
        "assert 0 < delta < 1\n",
        "assert 0 < r < 1"
      ],
      "metadata": {
        "id": "NYiz8d-Gpc08"
      },
      "execution_count": null,
      "outputs": []
    },
    {
      "cell_type": "markdown",
      "source": [
        "Definiremos a função utilidade como:\n",
        "$$ U(c) = ln(c) $$"
      ],
      "metadata": {
        "id": "nTE-6KzgqrGr"
      }
    },
    {
      "cell_type": "code",
      "source": [
        "utilidade = lambda c1, c2: np.log(c1) + delta * np.log(c2)"
      ],
      "metadata": {
        "id": "xJIj8zlLp9Jm"
      },
      "execution_count": null,
      "outputs": []
    },
    {
      "cell_type": "markdown",
      "source": [
        "Com isso, temos que a escolha ótima do consumidor ocorrerá quando:\n",
        "$$ U'(c_1) = \\delta U'(c_2) (1 + r) $$\n",
        "\n",
        "Substituindo as utilidades, teremos que:\n",
        "\n",
        "$$ \\frac{1}{c_1} = \\delta \\frac{1}{c_2} (1 + r) $$\n",
        "\n",
        "$$ c_2 = \\delta c_1 (1 + r) $$\n",
        "\n",
        "Substituindo na Restrição Orçamentária, temos que:\n",
        "\n",
        "$$ m_1 + \\frac{m_2}{1 + r} - c_1 - \\frac{c_2}{1 + r} = 0 $$\n",
        "\n",
        "$$ m_1 + \\frac{m_2}{1 + r} - c_1 - \\frac{\\delta c_1 (1 + r)}{1 + r} = 0 $$\n",
        "\n",
        "$$ m_1 + \\frac{m_2}{1 + r} - c_1 - \\delta c_1  = 0 $$\n",
        "\n",
        "$$ m_1 + \\frac{m_2}{1 + r} - c_1 (1 + \\delta)  = 0 $$\n",
        "\n",
        "$$ c_1  = \\frac{m_1 + \\frac{m_2}{1 + r}}{1 + \\delta} = \\frac{m_1}{1 + \\delta} + \\frac{m_2}{(1+r)(1 + \\delta)}$$\n",
        "\n",
        "Substituindo o valor de $c_1$ na Restrição Orçamentária, teremos:\n",
        "\n",
        "$$ m_1 + \\frac{m_2}{1 + r} - c_1 - \\frac{c_2}{1 + r} = 0 $$\n",
        "\n",
        "$$ \\frac{c_2}{1 + r} = m_1 + \\frac{m_2}{1 + r} - \\frac{m_1}{1 + \\delta} - \\frac{m_2}{(1+r)(1 + \\delta)} $$\n",
        "\n",
        "$$  c_2 = (1 + r) m_1 + m_2 - \\frac{(1 + r) m_1}{1 + \\delta} - \\frac{m_2}{1 + \\delta}$$\n",
        "\n",
        "$$ c_2 =  (1 + r) m_1 + m_2 - \\frac{(1+r) m_1 + m2}{1 + \\delta} $$\n",
        "\n",
        "$$ c_2 = \\frac{(1 + r) m_1 + (1 + r) m_1 \\delta + m_2 + m_2 \\delta - (1 + r) m_1 - m_2}{1 + \\delta} $$\n",
        "\n",
        "$$ c_2 = \\frac{(1 + r) \\delta m_1 + \\delta m_2}{1 + \\delta} $$"
      ],
      "metadata": {
        "id": "BXXLG__Ss7D6"
      }
    },
    {
      "cell_type": "code",
      "source": [
        "# Agora podemos calcular o consumo nos periodos e a poupanca\n",
        "c_1 = m1/(1 + delta) + m2/((1 + r) * (1 + delta))\n",
        "\n",
        "c_2 = ((1 + r) * delta * m1 + delta * m2)/(1 + delta)\n",
        "\n",
        "s_1 = m1 - c_1"
      ],
      "metadata": {
        "id": "_CB1rTRqs6Sp"
      },
      "execution_count": null,
      "outputs": []
    },
    {
      "cell_type": "code",
      "source": [
        "print('O consumo no período 1 é de: ', c_1)\n",
        "print('O consumo no período 2 é de: ', c_2)\n",
        "print('A poupança no período 1 é de: ', s_1)\n",
        "print()\n",
        "print('Utilidade do Consumidor: ', utilidade(c_1, c_2))"
      ],
      "metadata": {
        "colab": {
          "base_uri": "https://localhost:8080/"
        },
        "id": "tFCoG5hf183D",
        "outputId": "b7c9c60e-bab3-4c0f-f448-130990ff98eb"
      },
      "execution_count": null,
      "outputs": [
        {
          "output_type": "stream",
          "name": "stdout",
          "text": [
            "O consumo no período 1 é de:  81.79723502304148\n",
            "O consumo no período 2 é de:  40.57142857142857\n",
            "A poupança no período 1 é de:  -31.79723502304148\n",
            "\n",
            "Utilidade do Consumidor:  5.88546907700546\n"
          ]
        }
      ]
    }
  ]
}